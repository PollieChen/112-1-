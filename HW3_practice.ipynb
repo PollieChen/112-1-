{
 "cells": [
  {
   "cell_type": "code",
   "execution_count": 15,
   "id": "a12d2f44",
   "metadata": {},
   "outputs": [
    {
     "name": "stdout",
     "output_type": "stream",
     "text": [
      "['第56條', '第125條', '第133條', '第189條', '第237條', '第236條']\n"
     ]
    }
   ],
   "source": [
    "# https://regexr.com/\n",
    "\n",
    "import re\n",
    "\n",
    "text = \"㈠按「（第1項）汽車駕駛人停車時，有下列情形之一者，處60 0元以上1,200元以下罰鍰：10、於身心障礙專用停車位違規 停車。（第5項）第1項第10款應以最高額處罰之。」處罰條 例第56條第1項第10款、第5項前段定有明文。次按「汽車停 車時，應依下列規定：5、在設有身心障礙者專用停車標誌 處所，非身心障礙者用車不得停放。15、停車時間、位置、 方式及車種，如公路主管機關、市區道路主管機關或警察機 關有特別規定時，應依其規定。」道路交通安全規則第112 條第1項第5款、第15款亦定有明文。㈡復按「行政法院應依職權調查事實關係，不受當事人主張之 拘束」、「行政法院於撤銷訴訟，應依職權調查證據。」、 「（第1項）行政法院為裁判時，應斟酌全辯論意旨及調查 證據之結果，依論理及經驗法則判斷事實之真偽。」，行政 訴訟法第125條第1項、第133條前段、第189條第1項前段分 別定有明文。又依同法第237條之9第1項、第236條規定，上 開規定於交通裁決事件準用之。依上開規定意旨，可知我國 行政訴訟係採取職權調查原則，其具體內涵包括事實審法院 有促使案件成熟，亦即使案件達於可為實體裁判程度之義務\"\n",
    "pattern = r'第\\d+條'\n",
    "\n",
    "match = re.findall(pattern, text)\n",
    "print(match)\n"
   ]
  },
  {
   "cell_type": "code",
   "execution_count": null,
   "id": "04a21ef0",
   "metadata": {},
   "outputs": [],
   "source": []
  },
  {
   "cell_type": "code",
   "execution_count": null,
   "id": "307dce6f",
   "metadata": {},
   "outputs": [],
   "source": []
  },
  {
   "cell_type": "code",
   "execution_count": null,
   "id": "4511eba9",
   "metadata": {},
   "outputs": [],
   "source": []
  }
 ],
 "metadata": {
  "kernelspec": {
   "display_name": "Python 3 (ipykernel)",
   "language": "python",
   "name": "python3"
  },
  "language_info": {
   "codemirror_mode": {
    "name": "ipython",
    "version": 3
   },
   "file_extension": ".py",
   "mimetype": "text/x-python",
   "name": "python",
   "nbconvert_exporter": "python",
   "pygments_lexer": "ipython3",
   "version": "3.11.4"
  }
 },
 "nbformat": 4,
 "nbformat_minor": 5
}
